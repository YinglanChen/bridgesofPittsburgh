{
 "cells": [
  {
   "cell_type": "code",
   "execution_count": 1,
   "metadata": {},
   "outputs": [],
   "source": [
    "import networkx as nx\n",
    "from itertools import chain\n",
    "from collections import Counter\n",
    "import ast\n",
    "import matplotlib.pyplot as plt"
   ]
  },
  {
   "cell_type": "code",
   "execution_count": 2,
   "metadata": {},
   "outputs": [],
   "source": [
    "draw_options = {\n",
    "    'node_color': 'blue', 'node_size': 100, 'width': 3,\n",
    "    'arrowstyle': '-|>', 'arrowsize': 12,\n",
    "}"
   ]
  },
  {
   "cell_type": "code",
   "execution_count": 3,
   "metadata": {},
   "outputs": [],
   "source": [
    "g = nx.readwrite.graphml.read_graphml('./full_20180709_gml')"
   ]
  },
  {
   "cell_type": "code",
   "execution_count": 5,
   "metadata": {},
   "outputs": [],
   "source": [
    "for i in g.edges():\n",
    "    if len(i) != 2:\n",
    "        print(i)\n",
    "        continue\n",
    "    if type(i[0]) != str or type(i[1]) != str:\n",
    "        print(i)"
   ]
  },
  {
   "cell_type": "code",
   "execution_count": 7,
   "metadata": {},
   "outputs": [
    {
     "name": "stdout",
     "output_type": "stream",
     "text": [
      "Counter({1: 55216, 2: 1098, 3: 27})\n",
      "57493\n"
     ]
    }
   ],
   "source": [
    "def parallelEdge(g):\n",
    "    eSize = []\n",
    "    countEdge = 0\n",
    "    for i in g.edges():\n",
    "        c = len(g[i[0]][i[1]])\n",
    "        countEdge += c\n",
    "        eSize.append(c)\n",
    "    return Counter(eSize), countEdge\n",
    "multiEdgeC, totalEdge = parallelEdge(g)\n",
    "print(multiEdgeC)\n",
    "print(totalEdge)"
   ]
  },
  {
   "cell_type": "code",
   "execution_count": 4,
   "metadata": {},
   "outputs": [],
   "source": [
    "gSimple = nx.DiGraph(g.to_directed())"
   ]
  },
  {
   "cell_type": "code",
   "execution_count": 6,
   "metadata": {},
   "outputs": [
    {
     "name": "stdout",
     "output_type": "stream",
     "text": [
      "<class 'networkx.classes.multidigraph.MultiDiGraph'>\n",
      "<class 'networkx.classes.digraph.DiGraph'>\n",
      "Edge: 56341\n",
      "Node: 20930\n",
      "Edge: 55774\n",
      "Node: 20930\n"
     ]
    }
   ],
   "source": [
    "print(type(g))\n",
    "print(type(gSimple))\n",
    "print(\"Edge: \" + str(g.number_of_edges()))\n",
    "print(\"Node: \" + str(g.number_of_nodes()))\n",
    "print(\"Edge: \" + str(gSimple.number_of_edges()))\n",
    "print(\"Node: \" + str(gSimple.number_of_nodes()))"
   ]
  },
  {
   "cell_type": "markdown",
   "metadata": {},
   "source": [
    "> Get useable attributes"
   ]
  },
  {
   "cell_type": "code",
   "execution_count": 8,
   "metadata": {},
   "outputs": [],
   "source": [
    "def getNodeAttrib(g):\n",
    "    return set(chain(*[(g.node[n].keys()) for n in g.nodes()]))\n",
    "def getEdgeAttrib(g):\n",
    "    return set(chain(*[(g.edges[i[0],i[1],0].keys()) for i in g.edges()]))"
   ]
  },
  {
   "cell_type": "code",
   "execution_count": 9,
   "metadata": {},
   "outputs": [
    {
     "name": "stdout",
     "output_type": "stream",
     "text": [
      "Node:  {'osmid', 'x', 'lat', 'ref', 'lon', 'y', 'highway'}\n",
      "Edge:  {'osmid', 'name', 'ref', 'width', 'oneway', 'maxspeed', 'junction', 'length', 'tunnel', 'highway', 'geometry', 'access', 'lanes', 'service', 'bridge'}\n"
     ]
    }
   ],
   "source": [
    "print(\"Node: \" , getNodeAttrib(g))\n",
    "print(\"Edge: \" , getEdgeAttrib(g))"
   ]
  },
  {
   "cell_type": "markdown",
   "metadata": {},
   "source": [
    "> Extract edges with attribute 'bridge' is true"
   ]
  },
  {
   "cell_type": "code",
   "execution_count": 12,
   "metadata": {},
   "outputs": [],
   "source": [
    "def extractBridges(g):\n",
    "    bridge_nodes = []\n",
    "    for e in g.edges():\n",
    "        from_ = e[0]\n",
    "        to_ = e[1]\n",
    "        test_edge = g[from_][to_]\n",
    "        if 'bridge' in test_edge and test_edge['bridge'] == 'yes':\n",
    "            bridge_nodes.append(from_)\n",
    "            bridge_nodes.append(to_)\n",
    "    return g.subgraph(bridge_nodes).copy()\n",
    "\n",
    "g_bridge = extractBridges(gSimple)"
   ]
  },
  {
   "cell_type": "code",
   "execution_count": 13,
   "metadata": {},
   "outputs": [
    {
     "name": "stdout",
     "output_type": "stream",
     "text": [
      "<class 'networkx.classes.digraph.DiGraph'>\n",
      "Edge: 870\n",
      "Node: 694\n"
     ]
    }
   ],
   "source": [
    "print(type(g_bridge))\n",
    "print(\"Edge: \" + str(g_bridge.number_of_edges()))\n",
    "print(\"Node: \" + str(g_bridge.number_of_nodes()))"
   ]
  },
  {
   "cell_type": "markdown",
   "metadata": {},
   "source": [
    "> Find names for all 'bridges'"
   ]
  },
  {
   "cell_type": "code",
   "execution_count": 21,
   "metadata": {},
   "outputs": [
    {
     "data": {
      "text/plain": [
       "dict_keys(['Chestnut Street', 'Allegheny Valley Expressway', '[Unnamed]', 'Fort Duquesne Bridge', 'One Wild Place', 'Schenley Drive', 'Penn Avenue', 'Palm Garden Trestle', 'Skid Way', 'Penn-Lincoln Parkway East', 'Highland Park Bridge', 'Timberland Avenue', 'Crosstown Boulevard', 'None', '28th Street Bridge', 'Butler Street', 'East Busway', 'Freeport Road', 'Boulevard of the Allies', 'Washington Boulevard', 'Meadow Street', '62nd Street Bridge', 'Negley Run Boulevard', 'East Liberty Boulevard', 'Saw Mill Run Boulevard', 'West North Avenue', '26th Street Ramp', 'Arlington Avenue', 'P J McArdle Roadway', 'Forbes Avenue', 'Lincoln Avenue', 'Center Street', 'William Flinn Highway', 'Ansonia Place', 'McNeilly Road', 'Library Road', 'Penn-Lincoln Parkway North', 'Panther Hollow Road', 'West Carson Street', 'Bajo Street', 'MacFarren Street', 'Liberty Bridge', 'Liberty Tunnels', 'Smithfield Street', 'Fort Pitt Boulevard', 'Laurel Street', 'West End Bridge', 'Ridge Place', 'Ramp Street', 'Edgewood Avenue', 'Sherman Street', 'Fort Duquesne Boulevard', 'Larimer Avenue', 'Steubenville Pike', 'Ohio River Boulevard', 'South Highland Avenue', '31st Street Bridge', 'River Avenue', 'Bigelow Boulevard', 'Grant Avenue', 'Oakwood Road', 'Weyman Road', 'Provost Road', 'Mission Street', 'Radcliffe Street', 'Idlewood Avenue', 'Forward Avenue', 'West Busway', 'Penn-Lincoln Parkway West', 'Ivory Avenue', 'Fairhaven Road', 'Parkway North', 'South Main Street', 'Trumbull Drive', 'Bell Avenue', 'East Prospect Avenue', 'Baum Boulevard', 'Mifflin Road', 'Colerain Street', 'South Aiken Avenue', 'Steuben Street', 'Pennwood Avenue', 'Restricted Lane', 'South Busway', 'Killarney Drive', 'Brighton Road', 'Station Street', 'Maple Avenue', 'East Sycamore Street', 'Stanhope Street', 'Bridge Street', 'Minnotte Square', 'McKnight Street', 'East Street', 'Centre Avenue', 'Chatham Street', 'Farragut Street', 'North Main Street', 'Poplar Street', 'North Shore Drive', 'Ridge Avenue', 'Calera Street', 'Herron Avenue', 'Chartiers Avenue', 'Edgebrook Avenue', 'Cemetery Lane', 'McKees Rocks Bridge', 'Spirit Street', 'Terminal Street', 'Birmingham Bridge', 'Glass Run Road', 'Bloomfield Bridge', 'Liberty Avenue', 'Wood Street', 'South Millvale Avenue', 'Brighton Heights Boulevard', 'Pennsylvania Avenue', 'Murray Avenue', 'Veterans Bridge', 'Noble Street', 'Tripoli Street', 'North Shore Expressway', 'Streets Run Road', 'Ensign Avenue', 'Shadeland Avenue', 'Carnahan Road', 'Lancaster Avenue', 'McKnight Road', 'Crafton Boulevard', 'Bedford Avenue', '40th Street Bridge', 'South Negley Avenue', 'Woodville Avenue', 'Lowe Street', 'Isabella Street', 'Brosville Street', 'Mckees Rocks Plaza', 'Corley Street', 'Lowrie Street', 'Market Street', 'Perrysville Avenue', 'East Ohio Street', 'Glenwood Bridge', 'East 5th Avenue', 'Milroy Street', 'Madison Avenue', 'Washington Place', 'Homestead Grays Bridge', 'West Elizabeth Street', 'Sheridan Street', 'Greentree Road', 'California Avenue', 'Allegheny River Boulevard', 'East North Avenue', 'West Liberty Avenue', 'West Ohio Street', 'Old Freeport Road', 'Stanwix Street', 'Columbus Avenue', 'Rialto Street'])"
      ]
     },
     "execution_count": 21,
     "metadata": {},
     "output_type": "execute_result"
    }
   ],
   "source": [
    "# Unique bridge names\n",
    "def findUniqueNames(g):\n",
    "    tmpAll = {}\n",
    "    for e in g.edges():\n",
    "        test_edge = g[e[0]][e[1]]\n",
    "        # Default 'noname' routine\n",
    "        tmp_name = '[Unnamed]'\n",
    "        if 'name' in test_edge:\n",
    "            tmp_name = test_edge['name']\n",
    "            if '[' and ']' in tmp_name:\n",
    "                # Parse list and sort to guarantee order\n",
    "                tmp_name = ast.literal_eval(tmp_name).sort()\n",
    "        dictKeyName = str(tmp_name)\n",
    "        if dictKeyName not in tmpAll:\n",
    "            tmpAll[dictKeyName] = []\n",
    "        tmpAll[dictKeyName].append((e[0],e[1]))\n",
    "    return tmpAll, tmpAll.keys()\n",
    "allEdgeByName, uniqueNames = findUniqueNames(g_bridge)\n",
    "uniqueNames"
   ]
  },
  {
   "cell_type": "code",
   "execution_count": 51,
   "metadata": {},
   "outputs": [],
   "source": [
    "def addPseudoEdge(g, uid, from_1, to_1, from_2, to_2):\n",
    "    nodeName = \"pseudo_\" + str(uid)\n",
    "    oriEdgeLeft = g[from_1][to_1]\n",
    "    oriEdgeRight = g[from_2][to_2]\n",
    "    newLeftName = 'Unnamed'\n",
    "    newRightName = 'Unnamed'\n",
    "    if 'name' in oriEdgeLeft:\n",
    "        newLeftName = oriEdgeLeft['name']\n",
    "    if 'name' in oriEdgeRight:\n",
    "        newRightName = oriEdgeRight['name']\n",
    "    g.add_node(nodeName, note=\"Fake\")\n",
    "    # Notice the direction\n",
    "    g.add_edge(from_1, nodeName, name = (newLeftName + \"_p1\"))\n",
    "    g.add_edge(nodeName, to_1, name = (newLeftName + \"_p2\"))\n",
    "    g.add_edge(from_2, nodeName, name = (newRightName + \"_p1\"))\n",
    "    g.add_edge(nodeName, to_2, name = (newRightName + \"_p1\"))\n",
    "    # Remove old edge\n",
    "    g.remove_edge(from_1, to_1)\n",
    "    g.remove_edge(from_2, to_2)"
   ]
  },
  {
   "cell_type": "markdown",
   "metadata": {},
   "source": [
    "---\n",
    "> Below are useless code"
   ]
  },
  {
   "cell_type": "code",
   "execution_count": null,
   "metadata": {},
   "outputs": [],
   "source": [
    "c = 0\n",
    "for e in g.edges(data=all):\n",
    "    c+=1\n",
    "    print(\"%s,%s\" % (e[0],e[1]))\n",
    "    if c>2:\n",
    "        break\n"
   ]
  },
  {
   "cell_type": "code",
   "execution_count": null,
   "metadata": {},
   "outputs": [],
   "source": [
    "g['683704708']['275755069'][0]"
   ]
  },
  {
   "cell_type": "code",
   "execution_count": null,
   "metadata": {},
   "outputs": [],
   "source": [
    "s = g['104185739']['105697570']\n",
    "for i in s:\n",
    "    print(s[i])"
   ]
  },
  {
   "cell_type": "code",
   "execution_count": null,
   "metadata": {},
   "outputs": [],
   "source": [
    "g.nodes['104551796']"
   ]
  },
  {
   "cell_type": "code",
   "execution_count": null,
   "metadata": {},
   "outputs": [],
   "source": [
    "#nx.draw_networkx(g, arrows=True, **draw_options)"
   ]
  },
  {
   "cell_type": "markdown",
   "metadata": {},
   "source": [
    "---\n",
    "> Below are proto-code"
   ]
  },
  {
   "cell_type": "code",
   "execution_count": 57,
   "metadata": {},
   "outputs": [
    {
     "data": {
      "text/plain": [
       "[('684861957', '684844042'),\n",
       " ('684907711', '684861957'),\n",
       " ('684861842', '684907553'),\n",
       " ('684844055', '684861842')]"
      ]
     },
     "execution_count": 57,
     "metadata": {},
     "output_type": "execute_result"
    }
   ],
   "source": [
    "allEdgeByName['Veterans Bridge']"
   ]
  },
  {
   "cell_type": "code",
   "execution_count": 58,
   "metadata": {},
   "outputs": [],
   "source": [
    "tmp_g = g_bridge.subgraph(['684861957', '684844042','684907711', '684861957','684861842', '684907553','684844055', '684861842']).copy()"
   ]
  },
  {
   "cell_type": "code",
   "execution_count": 59,
   "metadata": {},
   "outputs": [
    {
     "data": {
      "image/png": "[encoded data removed]",
      "text/plain": [
       "<Figure size 432x288 with 1 Axes>"
      ]
     },
     "metadata": {},
     "output_type": "display_data"
    }
   ],
   "source": [
    "fig = plt.figure()\n",
    "plt.axis('off')\n",
    "nx.draw_networkx(tmp_g, arrows=True, **draw_options)"
   ]
  },
  {
   "cell_type": "code",
   "execution_count": 60,
   "metadata": {},
   "outputs": [
    {
     "name": "stdout",
     "output_type": "stream",
     "text": [
      "684844055,684861842\n",
      "684907711,684861957\n",
      "684861957,684844042\n",
      "684861842,684907553\n"
     ]
    }
   ],
   "source": [
    "for e in tmp_g.edges():\n",
    "    from_ = e[0]\n",
    "    to_ = e[1]\n",
    "    print(\"%s,%s\" % (from_,to_))"
   ]
  },
  {
   "cell_type": "code",
   "execution_count": 61,
   "metadata": {},
   "outputs": [],
   "source": [
    "addPseudoEdge(tmp_g, 1, '684907711', '684861957', '684844055', '684861842')\n",
    "addPseudoEdge(tmp_g, 2, '684861957', '684844042', '684861842', '684907553')"
   ]
  },
  {
   "cell_type": "code",
   "execution_count": 62,
   "metadata": {},
   "outputs": [
    {
     "data": {
      "image/png": "[encoded data removed]",
      "text/plain": [
       "<Figure size 432x288 with 1 Axes>"
      ]
     },
     "metadata": {},
     "output_type": "display_data"
    }
   ],
   "source": [
    "fig = plt.figure()\n",
    "plt.axis('off')\n",
    "nx.draw_networkx(tmp_g, arrows=True)"
   ]
  },
  {
   "cell_type": "code",
   "execution_count": 63,
   "metadata": {},
   "outputs": [
    {
     "name": "stdout",
     "output_type": "stream",
     "text": [
      "684844055,pseudo_1\n",
      "684907711,pseudo_1\n",
      "684861957,pseudo_2\n",
      "684861842,pseudo_2\n",
      "pseudo_1,684861957\n",
      "pseudo_1,684861842\n",
      "pseudo_2,684844042\n",
      "pseudo_2,684907553\n"
     ]
    }
   ],
   "source": [
    "for e in tmp_g.edges():\n",
    "    from_ = e[0]\n",
    "    to_ = e[1]\n",
    "    print(\"%s,%s\" % (from_,to_))"
   ]
  },
  {
   "cell_type": "code",
   "execution_count": null,
   "metadata": {},
   "outputs": [],
   "source": []
  }
 ],
 "metadata": {
  "kernelspec": {
   "display_name": "Python 3",
   "language": "python",
   "name": "python3"
  },
  "language_info": {
   "codemirror_mode": {
    "name": "ipython",
    "version": 3
   },
   "file_extension": ".py",
   "mimetype": "text/x-python",
   "name": "python",
   "nbconvert_exporter": "python",
   "pygments_lexer": "ipython3",
   "version": "3.6.6"
  }
 },
 "nbformat": 4,
 "nbformat_minor": 2
}
