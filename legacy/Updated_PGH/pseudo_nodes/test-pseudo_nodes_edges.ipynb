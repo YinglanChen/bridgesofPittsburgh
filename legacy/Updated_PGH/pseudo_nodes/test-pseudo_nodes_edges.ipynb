{
 "cells": [
  {
   "cell_type": "code",
   "execution_count": 1,
   "metadata": {},
   "outputs": [],
   "source": [
    "import networkx as nx\n",
    "from itertools import chain\n",
    "from collections import Counter\n",
    "import ast\n",
    "import matplotlib.pyplot as plt"
   ]
  },
  {
   "cell_type": "code",
   "execution_count": 2,
   "metadata": {},
   "outputs": [],
   "source": [
    "draw_options = {\n",
    "    'node_color': 'blue', 'node_size': 100, 'width': 3,\n",
    "    'arrowstyle': '-|>', 'arrowsize': 12,\n",
    "}"
   ]
  },
  {
   "cell_type": "code",
   "execution_count": 3,
   "metadata": {},
   "outputs": [],
   "source": [
    "g = nx.readwrite.graphml.read_graphml('./full_20180709_gml')"
   ]
  },
  {
   "cell_type": "code",
   "execution_count": 4,
   "metadata": {},
   "outputs": [],
   "source": [
    "for i in g.edges():\n",
    "    if len(i) != 2:\n",
    "        print(i)\n",
    "        continue\n",
    "    if type(i[0]) != str or type(i[1]) != str:\n",
    "        print(i)"
   ]
  },
  {
   "cell_type": "code",
   "execution_count": 5,
   "metadata": {},
   "outputs": [
    {
     "name": "stdout",
     "output_type": "stream",
     "text": [
      "Counter({1: 55216, 2: 1098, 3: 27})\n",
      "57493\n"
     ]
    }
   ],
   "source": [
    "def parallelEdge(g):\n",
    "    eSize = []\n",
    "    countEdge = 0\n",
    "    for i in g.edges():\n",
    "        c = len(g[i[0]][i[1]])\n",
    "        countEdge += c\n",
    "        eSize.append(c)\n",
    "    return Counter(eSize), countEdge\n",
    "multiEdgeC, totalEdge = parallelEdge(g)\n",
    "print(multiEdgeC)\n",
    "print(totalEdge)"
   ]
  },
  {
   "cell_type": "code",
   "execution_count": 6,
   "metadata": {},
   "outputs": [],
   "source": [
    "gSimple = nx.DiGraph(g.to_directed())"
   ]
  },
  {
   "cell_type": "code",
   "execution_count": 7,
   "metadata": {},
   "outputs": [
    {
     "name": "stdout",
     "output_type": "stream",
     "text": [
      "<class 'networkx.classes.multidigraph.MultiDiGraph'>\n",
      "<class 'networkx.classes.digraph.DiGraph'>\n",
      "Edge: 56341\n",
      "Node: 20930\n",
      "Edge: 55774\n",
      "Node: 20930\n"
     ]
    }
   ],
   "source": [
    "print(type(g))\n",
    "print(type(gSimple))\n",
    "print(\"Edge: \" + str(g.number_of_edges()))\n",
    "print(\"Node: \" + str(g.number_of_nodes()))\n",
    "print(\"Edge: \" + str(gSimple.number_of_edges()))\n",
    "print(\"Node: \" + str(gSimple.number_of_nodes()))"
   ]
  },
  {
   "cell_type": "markdown",
   "metadata": {},
   "source": [
    "> Get useable attributes"
   ]
  },
  {
   "cell_type": "code",
   "execution_count": 8,
   "metadata": {},
   "outputs": [],
   "source": [
    "def getNodeAttrib(g):\n",
    "    return set(chain(*[(g.node[n].keys()) for n in g.nodes()]))\n",
    "def getEdgeAttrib(g):\n",
    "    return set(chain(*[(g.edges[i[0],i[1],0].keys()) for i in g.edges()]))"
   ]
  },
  {
   "cell_type": "code",
   "execution_count": 9,
   "metadata": {},
   "outputs": [
    {
     "name": "stdout",
     "output_type": "stream",
     "text": [
      "Node:  {'osmid', 'ref', 'lat', 'highway', 'lon', 'x', 'y'}\n",
      "Edge:  {'access', 'tunnel', 'osmid', 'bridge', 'oneway', 'name', 'ref', 'junction', 'width', 'geometry', 'highway', 'service', 'lanes', 'maxspeed', 'length'}\n"
     ]
    }
   ],
   "source": [
    "print(\"Node: \" , getNodeAttrib(g))\n",
    "print(\"Edge: \" , getEdgeAttrib(g))"
   ]
  },
  {
   "cell_type": "markdown",
   "metadata": {},
   "source": [
    "> Extract edges with attribute 'bridge' is true"
   ]
  },
  {
   "cell_type": "code",
   "execution_count": 10,
   "metadata": {},
   "outputs": [],
   "source": [
    "def extractBridges(g):\n",
    "    bridge_nodes = []\n",
    "    for e in g.edges():\n",
    "        from_ = e[0]\n",
    "        to_ = e[1]\n",
    "        test_edge = g[from_][to_]\n",
    "        if 'bridge' in test_edge and test_edge['bridge'] == 'yes':\n",
    "            bridge_nodes.append(from_)\n",
    "            bridge_nodes.append(to_)\n",
    "    return g.subgraph(bridge_nodes).copy()\n",
    "\n",
    "g_bridge = extractBridges(gSimple)"
   ]
  },
  {
   "cell_type": "code",
   "execution_count": 11,
   "metadata": {},
   "outputs": [
    {
     "name": "stdout",
     "output_type": "stream",
     "text": [
      "<class 'networkx.classes.digraph.DiGraph'>\n",
      "Edge: 870\n",
      "Node: 694\n"
     ]
    }
   ],
   "source": [
    "print(type(g_bridge))\n",
    "print(\"Edge: \" + str(g_bridge.number_of_edges()))\n",
    "print(\"Node: \" + str(g_bridge.number_of_nodes()))"
   ]
  },
  {
   "cell_type": "markdown",
   "metadata": {},
   "source": [
    "> Load csv bridge markings"
   ]
  },
  {
   "cell_type": "code",
   "execution_count": 12,
   "metadata": {},
   "outputs": [],
   "source": [
    "def read_marking_csv(fp):\n",
    "    marks = []\n",
    "    with open(fp, 'r') as f:\n",
    "        for l in f.read().splitlines():\n",
    "            four_osmid = l.replace(' ','').split(',')\n",
    "            if len(four_osmid) != 4:\n",
    "                raise NotImplementedError\n",
    "            marks.append(four_osmid)\n",
    "    return marks\n",
    "marks = read_marking_csv('./a.csv')"
   ]
  },
  {
   "cell_type": "code",
   "execution_count": 13,
   "metadata": {},
   "outputs": [
    {
     "data": {
      "text/plain": [
       "[['683700398', '104199519', '683700442', '683700447'],\n",
       " ['271201214', '5312910301', '5312910301', '1460700301'],\n",
       " ['339260059', '339258687', '686444866', '3227655838'],\n",
       " ['688524794', '688525038', '688525044', '688524822'],\n",
       " ['4575931118', '687157694', '1370793639', '4575931040'],\n",
       " ['687153341', '687154275', '687154277', '687153353'],\n",
       " ['684861957', '684844042', '684844055', '684861842'],\n",
       " ['684996191', '271191647', '684996280', '684996205']]"
      ]
     },
     "execution_count": 13,
     "metadata": {},
     "output_type": "execute_result"
    }
   ],
   "source": [
    "marks"
   ]
  },
  {
   "cell_type": "markdown",
   "metadata": {},
   "source": [
    "> Find names for all 'bridges'"
   ]
  },
  {
   "cell_type": "code",
   "execution_count": 14,
   "metadata": {},
   "outputs": [
    {
     "data": {
      "text/plain": [
       "dict_keys(['Centre Avenue', 'Chatham Street', '[Unnamed]', 'Highland Park Bridge', 'Lowrie Street', 'Greentree Road', 'Penn-Lincoln Parkway East', 'South Negley Avenue', 'Woodville Avenue', 'Minnotte Square', 'Edgebrook Avenue', 'Saw Mill Run Boulevard', 'Smithfield Street', 'None', 'Idlewood Avenue', 'Bigelow Boulevard', 'Veterans Bridge', 'South Aiken Avenue', 'Crosstown Boulevard', 'East 5th Avenue', 'McKnight Road', 'East Prospect Avenue', 'Boulevard of the Allies', 'Penn-Lincoln Parkway West', 'Chestnut Street', 'California Avenue', 'Forward Avenue', 'Isabella Street', 'Ohio River Boulevard', 'East Busway', 'Bell Avenue', 'Allegheny Valley Expressway', 'Timberland Avenue', 'Parkway North', 'East Street', 'Colerain Street', 'North Shore Drive', 'Library Road', 'Restricted Lane', 'South Highland Avenue', 'Spirit Street', 'Forbes Avenue', '31st Street Bridge', 'Liberty Avenue', 'Herron Avenue', 'Ansonia Place', 'West Elizabeth Street', 'Stanhope Street', 'Edgewood Avenue', 'South Millvale Avenue', 'Ridge Place', 'Brighton Heights Boulevard', 'West Busway', 'Glass Run Road', 'Arlington Avenue', 'P J McArdle Roadway', 'McKees Rocks Bridge', 'Mifflin Road', 'Tripoli Street', 'William Flinn Highway', 'Bajo Street', 'Provost Road', 'North Main Street', 'Poplar Street', 'Fort Duquesne Boulevard', 'North Shore Expressway', 'Radcliffe Street', 'South Main Street', 'Old Freeport Road', 'Panther Hollow Road', 'Allegheny River Boulevard', 'Center Street', 'East Ohio Street', 'Meadow Street', 'Liberty Tunnels', 'Birmingham Bridge', 'Fort Pitt Boulevard', 'Trumbull Drive', '28th Street Bridge', 'Lancaster Avenue', 'Larimer Avenue', 'East Liberty Boulevard', 'Steubenville Pike', 'Cemetery Lane', 'Perrysville Avenue', 'West Carson Street', 'Shadeland Avenue', 'Rialto Street', 'West Liberty Avenue', 'Sherman Street', 'Bridge Street', 'Oakwood Road', 'Skid Way', 'Penn-Lincoln Parkway North', 'McNeilly Road', 'Madison Avenue', 'Schenley Drive', 'South Busway', 'Ramp Street', 'Freeport Road', 'Butler Street', 'One Wild Place', 'Calera Street', 'Washington Boulevard', '62nd Street Bridge', 'West North Avenue', 'West Ohio Street', 'Ridge Avenue', 'Corley Street', 'Mckees Rocks Plaza', 'Laurel Street', 'Homestead Grays Bridge', 'Bloomfield Bridge', 'River Avenue', 'Steuben Street', 'Grant Avenue', 'Lincoln Avenue', 'Liberty Bridge', 'Negley Run Boulevard', 'East Sycamore Street', 'Columbus Avenue', 'West End Bridge', 'Brighton Road', 'Terminal Street', 'Brosville Street', 'Bedford Avenue', 'Noble Street', 'Ivory Avenue', 'Chartiers Avenue', 'Pennsylvania Avenue', 'Carnahan Road', 'Baum Boulevard', '40th Street Bridge', 'Crafton Boulevard', 'Ensign Avenue', 'Glenwood Bridge', 'Palm Garden Trestle', 'Mission Street', 'Killarney Drive', 'Pennwood Avenue', 'Lowe Street', '26th Street Ramp', 'Streets Run Road', 'Penn Avenue', 'Weyman Road', 'Fort Duquesne Bridge', 'McKnight Street', 'East North Avenue', 'Milroy Street', 'Washington Place', 'Farragut Street', 'Stanwix Street', 'Sheridan Street', 'Station Street', 'MacFarren Street', 'Murray Avenue', 'Fairhaven Road', 'Maple Avenue', 'Wood Street', 'Market Street'])"
      ]
     },
     "execution_count": 14,
     "metadata": {},
     "output_type": "execute_result"
    }
   ],
   "source": [
    "# Unique bridge names\n",
    "def findUniqueNames(g):\n",
    "    tmpAll = {}\n",
    "    for e in g.edges():\n",
    "        test_edge = g[e[0]][e[1]]\n",
    "        # Default 'noname' routine\n",
    "        tmp_name = '[Unnamed]'\n",
    "        if 'name' in test_edge:\n",
    "            tmp_name = test_edge['name']\n",
    "            if '[' and ']' in tmp_name:\n",
    "                # Parse list and sort to guarantee order\n",
    "                tmp_name = ast.literal_eval(tmp_name).sort()\n",
    "        dictKeyName = str(tmp_name)\n",
    "        if dictKeyName not in tmpAll:\n",
    "            tmpAll[dictKeyName] = []\n",
    "        tmpAll[dictKeyName].append((e[0],e[1]))\n",
    "    return tmpAll, tmpAll.keys()\n",
    "allEdgeByName, uniqueNames = findUniqueNames(g_bridge)\n",
    "uniqueNames"
   ]
  },
  {
   "cell_type": "code",
   "execution_count": 15,
   "metadata": {},
   "outputs": [],
   "source": [
    "tmpC = {}\n",
    "for k, v in allEdgeByName.items():\n",
    "    if type(v) is list:\n",
    "        tmpC[k] = len(v)\n",
    "    else:\n",
    "        print(v)\n",
    "# Counter(tmpC)"
   ]
  },
  {
   "cell_type": "code",
   "execution_count": 16,
   "metadata": {},
   "outputs": [],
   "source": [
    "def addPseudoEdge(g, uid, from_1, to_1, from_2, to_2):\n",
    "    nodeName = \"pseudo_\" + str(uid)\n",
    "    oriEdgeLeft = g[from_1][to_1]\n",
    "    oriEdgeRight = g[from_2][to_2]\n",
    "    newLeftName = 'Unnamed'\n",
    "    newRightName = 'Unnamed'\n",
    "    if 'name' in oriEdgeLeft:\n",
    "        newLeftName = oriEdgeLeft['name']\n",
    "    if 'name' in oriEdgeRight:\n",
    "        newRightName = oriEdgeRight['name']\n",
    "    g.add_node(nodeName, note=\"Fake\")\n",
    "    # Notice the direction\n",
    "    g.add_edge(from_1, nodeName, name = (newLeftName + \"_p1\"))\n",
    "    g.add_edge(nodeName, to_1, name = (newLeftName + \"_p2\"))\n",
    "    g.add_edge(from_2, nodeName, name = (newRightName + \"_p1\"))\n",
    "    g.add_edge(nodeName, to_2, name = (newRightName + \"_p2\"))\n",
    "    # Remove old edge\n",
    "    g.remove_edge(from_1, to_1)\n",
    "    g.remove_edge(from_2, to_2)"
   ]
  },
  {
   "cell_type": "markdown",
   "metadata": {},
   "source": [
    "> Try add nodes & edges"
   ]
  },
  {
   "cell_type": "code",
   "execution_count": 17,
   "metadata": {},
   "outputs": [],
   "source": [
    "pseudo_count = 0\n",
    "for m in marks:\n",
    "    uid = \"test\" + str(pseudo_count)\n",
    "    addPseudoEdge(gSimple, uid, m[0], m[1], m[2], m[3])    \n",
    "    pseudo_count += 1"
   ]
  },
  {
   "cell_type": "code",
   "execution_count": 18,
   "metadata": {},
   "outputs": [],
   "source": [
    "nx.readwrite.graphml.write_graphml(gSimple, \"full_20180709_simpilfied_gml\")"
   ]
  },
  {
   "cell_type": "markdown",
   "metadata": {},
   "source": [
    "---\n",
    "> Below are useless code"
   ]
  },
  {
   "cell_type": "code",
   "execution_count": null,
   "metadata": {},
   "outputs": [],
   "source": [
    "c = 0\n",
    "for e in g.edges(data=all):\n",
    "    c+=1\n",
    "    print(\"%s,%s\" % (e[0],e[1]))\n",
    "    if c>2:\n",
    "        break\n"
   ]
  },
  {
   "cell_type": "code",
   "execution_count": null,
   "metadata": {},
   "outputs": [],
   "source": [
    "g['683704708']['275755069'][0]"
   ]
  },
  {
   "cell_type": "code",
   "execution_count": null,
   "metadata": {},
   "outputs": [],
   "source": [
    "s = g['104185739']['105697570']\n",
    "for i in s:\n",
    "    print(s[i])"
   ]
  },
  {
   "cell_type": "code",
   "execution_count": null,
   "metadata": {},
   "outputs": [],
   "source": [
    "g.nodes['104551796']"
   ]
  },
  {
   "cell_type": "code",
   "execution_count": null,
   "metadata": {},
   "outputs": [],
   "source": [
    "#nx.draw_networkx(g, arrows=True, **draw_options)"
   ]
  },
  {
   "cell_type": "markdown",
   "metadata": {},
   "source": [
    "---\n",
    "> Below are proto-code"
   ]
  },
  {
   "cell_type": "code",
   "execution_count": null,
   "metadata": {},
   "outputs": [],
   "source": [
    "allEdgeByName['Veterans Bridge']"
   ]
  },
  {
   "cell_type": "code",
   "execution_count": null,
   "metadata": {},
   "outputs": [],
   "source": [
    "tmp_g = g_bridge.subgraph(['684861957', '684844042','684907711', '684861957','684861842', '684907553','684844055', '684861842']).copy()"
   ]
  },
  {
   "cell_type": "code",
   "execution_count": null,
   "metadata": {},
   "outputs": [],
   "source": [
    "fig = plt.figure()\n",
    "plt.axis('off')\n",
    "nx.draw_networkx(tmp_g, arrows=True, **draw_options)"
   ]
  },
  {
   "cell_type": "code",
   "execution_count": null,
   "metadata": {},
   "outputs": [],
   "source": [
    "for e in tmp_g.edges():\n",
    "    from_ = e[0]\n",
    "    to_ = e[1]\n",
    "    print(\"%s,%s\" % (from_,to_))"
   ]
  },
  {
   "cell_type": "code",
   "execution_count": null,
   "metadata": {},
   "outputs": [],
   "source": [
    "addPseudoEdge(tmp_g, 1, '684907711', '684861957', '684844055', '684861842')\n",
    "addPseudoEdge(tmp_g, 2, '684861957', '684844042', '684861842', '684907553')"
   ]
  },
  {
   "cell_type": "code",
   "execution_count": null,
   "metadata": {},
   "outputs": [],
   "source": [
    "fig = plt.figure()\n",
    "plt.axis('off')\n",
    "nx.draw_networkx(tmp_g, arrows=True)"
   ]
  },
  {
   "cell_type": "code",
   "execution_count": null,
   "metadata": {},
   "outputs": [],
   "source": [
    "for e in tmp_g.edges():\n",
    "    from_ = e[0]\n",
    "    to_ = e[1]\n",
    "    print(\"%s,%s\" % (from_,to_))"
   ]
  },
  {
   "cell_type": "code",
   "execution_count": null,
   "metadata": {},
   "outputs": [],
   "source": []
  }
 ],
 "metadata": {
  "kernelspec": {
   "display_name": "Python 3",
   "language": "python",
   "name": "python3"
  },
  "language_info": {
   "codemirror_mode": {
    "name": "ipython",
    "version": 3
   },
   "file_extension": ".py",
   "mimetype": "text/x-python",
   "name": "python",
   "nbconvert_exporter": "python",
   "pygments_lexer": "ipython3",
   "version": "3.6.6"
  }
 },
 "nbformat": 4,
 "nbformat_minor": 2
}
